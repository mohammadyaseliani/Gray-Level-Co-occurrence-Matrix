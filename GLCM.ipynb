{
  "nbformat": 4,
  "nbformat_minor": 0,
  "metadata": {
    "colab": {
      "name": "Untitled9.ipynb",
      "provenance": [],
      "collapsed_sections": []
    },
    "kernelspec": {
      "name": "python3",
      "display_name": "Python 3"
    },
    "language_info": {
      "name": "python"
    },
    "accelerator": "GPU"
  },
  "cells": [
    {
      "cell_type": "code",
      "source": [
        "# Import necessary libraries\n",
        "import numpy as np \n",
        "import matplotlib.pyplot as plt\n",
        "import glob\n",
        "import cv2\n",
        "import os\n",
        "import seaborn as sns\n",
        "import pandas as pd\n",
        "import tensorflow as tf\n",
        "from skimage.filters import sobel\n",
        "from skimage.feature import greycomatrix, greycoprops\n",
        "from google.colab import drive\n",
        "from glob import glob"
      ],
      "metadata": {
        "id": "1A2y0MSX8CXg"
      },
      "execution_count": 18,
      "outputs": []
    },
    {
      "cell_type": "code",
      "source": [
        "drive.mount('/content/drive')"
      ],
      "metadata": {
        "id": "XGA3Z9-klWhQ",
        "colab": {
          "base_uri": "https://localhost:8080/"
        },
        "outputId": "92b84c06-f969-48d8-9814-9826b853afa9"
      },
      "execution_count": 19,
      "outputs": [
        {
          "output_type": "stream",
          "name": "stdout",
          "text": [
            "Drive already mounted at /content/drive; to attempt to forcibly remount, call drive.mount(\"/content/drive\", force_remount=True).\n"
          ]
        }
      ]
    },
    {
      "cell_type": "code",
      "source": [
        "# Load the training images and their lables \n",
        "train_images = []\n",
        "train_labels = [] \n",
        "for directory_path in glob(\"/content/drive/MyDrive/Dataset Address/Dataset/train/*\"):\n",
        "    label = directory_path.split(\"\\\\\")[-1]\n",
        "    for img_path in glob(os.path.join(directory_path, \"*.jpg\")) or glob(os.path.join(directory_path, \"*.jpeg\")):\n",
        "        img=tf.keras.preprocessing.image.load_img(img_path, target_size=(224, 224), color_mode='grayscale')\n",
        "        img=np.asarray(img) \n",
        "        train_images.append(img)\n",
        "        train_labels.append(label)"
      ],
      "metadata": {
        "id": "G3_t-UGolWoQ"
      },
      "execution_count": null,
      "outputs": []
    },
    {
      "cell_type": "code",
      "source": [
        "# Change the data to arrays \n",
        "train_images = np.asarray(train_images)\n",
        "train_labels = np.asarray(train_labels)"
      ],
      "metadata": {
        "id": "p3MD65WJlWtZ"
      },
      "execution_count": 29,
      "outputs": []
    },
    {
      "cell_type": "code",
      "source": [
        "# Load the test images and their lables \n",
        "test_images = []\n",
        "test_labels = [] \n",
        "for directory_path in glob(\"/content/drive/MyDrive/Dataset Address/Dataset/test/*\"):\n",
        "    label = directory_path.split(\"\\\\\")[-1]\n",
        "    for img_path in glob(os.path.join(directory_path, \"*.jpg\")) or glob(os.path.join(directory_path, \"*.jpeg\")):\n",
        "        img=tf.keras.preprocessing.image.load_img(img_path, target_size=(224, 224), color_mode='grayscale')\n",
        "        img=np.asarray(img) \n",
        "        test_images.append(img)\n",
        "        test_labels.append(label)"
      ],
      "metadata": {
        "id": "6R7v5oR4okYn"
      },
      "execution_count": 36,
      "outputs": []
    },
    {
      "cell_type": "code",
      "source": [
        "# Change the data to arrays \n",
        "test_images = np.asarray(test_images)\n",
        "test_labels = np.asarray(test_labels)"
      ],
      "metadata": {
        "id": "-Sd1IxRKoka-"
      },
      "execution_count": 37,
      "outputs": []
    },
    {
      "cell_type": "code",
      "source": [
        "# Encode the labels (Change the strings to numbers respresting the classes)\n",
        "from sklearn import preprocessing\n",
        "le = preprocessing.LabelEncoder()\n",
        "le.fit(test_labels)\n",
        "test_labels = le.transform(test_labels)\n",
        "le.fit(train_labels)\n",
        "train_labels = le.transform(train_labels)\n",
        "\n",
        "x_train, y_train, x_test, y_test = train_images, train_labels, test_images, test_labels"
      ],
      "metadata": {
        "id": "UGEvZFSjyrnC"
      },
      "execution_count": 38,
      "outputs": []
    },
    {
      "cell_type": "code",
      "source": [
        "# GLCM feature extractor\n",
        "def feature_extractor(dataset):\n",
        "    image_dataset = pd.DataFrame()\n",
        "    for image in range(dataset.shape[0]):  \n",
        "        \n",
        "        df = pd.DataFrame()\n",
        "\n",
        "        img = dataset[image, :,:]\n",
        "\n",
        "        GLCM = greycomatrix(img, [1], [0])       \n",
        "        GLCM_Energy = greycoprops(GLCM, 'energy')[0]\n",
        "        df['Energy'] = GLCM_Energy\n",
        "        GLCM_corr = greycoprops(GLCM, 'correlation')[0]\n",
        "        df['Corr'] = GLCM_corr       \n",
        "        GLCM_diss = greycoprops(GLCM, 'dissimilarity')[0]\n",
        "        df['Diss_sim'] = GLCM_diss       \n",
        "        GLCM_hom = greycoprops(GLCM, 'homogeneity')[0]\n",
        "        df['Homogen'] = GLCM_hom       \n",
        "        GLCM_contr = greycoprops(GLCM, 'contrast')[0]\n",
        "        df['Contrast'] = GLCM_contr\n",
        "\n",
        "\n",
        "        GLCM2 = greycomatrix(img, [3], [0])       \n",
        "        GLCM_Energy2 = greycoprops(GLCM2, 'energy')[0]\n",
        "        df['Energy2'] = GLCM_Energy2\n",
        "        GLCM_corr2 = greycoprops(GLCM2, 'correlation')[0]\n",
        "        df['Corr2'] = GLCM_corr2       \n",
        "        GLCM_diss2 = greycoprops(GLCM2, 'dissimilarity')[0]\n",
        "        df['Diss_sim2'] = GLCM_diss2       \n",
        "        GLCM_hom2 = greycoprops(GLCM2, 'homogeneity')[0]\n",
        "        df['Homogen2'] = GLCM_hom2       \n",
        "        GLCM_contr2 = greycoprops(GLCM2, 'contrast')[0]\n",
        "        df['Contrast2'] = GLCM_contr2\n",
        "\n",
        "        GLCM3 = greycomatrix(img, [5], [0])       \n",
        "        GLCM_Energy3 = greycoprops(GLCM3, 'energy')[0]\n",
        "        df['Energy3'] = GLCM_Energy3\n",
        "        GLCM_corr3 = greycoprops(GLCM3, 'correlation')[0]\n",
        "        df['Corr3'] = GLCM_corr3       \n",
        "        GLCM_diss3 = greycoprops(GLCM3, 'dissimilarity')[0]\n",
        "        df['Diss_sim3'] = GLCM_diss3       \n",
        "        GLCM_hom3 = greycoprops(GLCM3, 'homogeneity')[0]\n",
        "        df['Homogen3'] = GLCM_hom3       \n",
        "        GLCM_contr3 = greycoprops(GLCM3, 'contrast')[0]\n",
        "        df['Contrast3'] = GLCM_contr3\n",
        "\n",
        "        GLCM4 = greycomatrix(img, [0], [np.pi/4])       \n",
        "        GLCM_Energy4 = greycoprops(GLCM4, 'energy')[0]\n",
        "        df['Energy4'] = GLCM_Energy4\n",
        "        GLCM_corr4 = greycoprops(GLCM4, 'correlation')[0]\n",
        "        df['Corr4'] = GLCM_corr4       \n",
        "        GLCM_diss4 = greycoprops(GLCM4, 'dissimilarity')[0]\n",
        "        df['Diss_sim4'] = GLCM_diss4       \n",
        "        GLCM_hom4 = greycoprops(GLCM4, 'homogeneity')[0]\n",
        "        df['Homogen4'] = GLCM_hom4       \n",
        "        GLCM_contr4 = greycoprops(GLCM4, 'contrast')[0]\n",
        "        df['Contrast4'] = GLCM_contr4\n",
        "        \n",
        "        GLCM5 = greycomatrix(img, [0], [np.pi/2])       \n",
        "        GLCM_Energy5 = greycoprops(GLCM5, 'energy')[0]\n",
        "        df['Energy5'] = GLCM_Energy5\n",
        "        GLCM_corr5 = greycoprops(GLCM5, 'correlation')[0]\n",
        "        df['Corr5'] = GLCM_corr5       \n",
        "        GLCM_diss5 = greycoprops(GLCM5, 'dissimilarity')[0]\n",
        "        df['Diss_sim5'] = GLCM_diss5       \n",
        "        GLCM_hom5 = greycoprops(GLCM5, 'homogeneity')[0]\n",
        "        df['Homogen5'] = GLCM_hom5       \n",
        "        GLCM_contr5 = greycoprops(GLCM5, 'contrast')[0]\n",
        "        df['Contrast5'] = GLCM_contr5\n",
        "        \n",
        "        image_dataset = image_dataset.append(df)\n",
        "        \n",
        "    return image_dataset"
      ],
      "metadata": {
        "id": "_W7kNOsTy4Ky"
      },
      "execution_count": 39,
      "outputs": []
    },
    {
      "cell_type": "code",
      "source": [
        "glcm_train_features=feature_extractor(x_train)"
      ],
      "metadata": {
        "id": "dggg72Pny4NJ"
      },
      "execution_count": 41,
      "outputs": []
    },
    {
      "cell_type": "code",
      "source": [
        "glcm_test_features=feature_extractor(x_test)"
      ],
      "metadata": {
        "id": "SCSmwphRyrpi"
      },
      "execution_count": 43,
      "outputs": []
    },
    {
      "cell_type": "markdown",
      "source": [
        "Now, we can use different algorithms and approaches to classify the images using the extracted GLCM features."
      ],
      "metadata": {
        "id": "NOLyNrp03H_C"
      }
    }
  ]
}
